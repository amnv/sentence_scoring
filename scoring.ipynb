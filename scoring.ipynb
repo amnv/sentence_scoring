{
 "cells": [
  {
   "cell_type": "code",
   "execution_count": 7,
   "metadata": {},
   "outputs": [],
   "source": [
    "import os\n",
    "from nltk.tokenize import sent_tokenize, word_tokenize\n",
    "from py_stringmatching.similarity_measure.soft_tfidf import SoftTfIdf\n",
    "from py_stringmatching.similarity_measure.jaro_winkler import JaroWinkler"
   ]
  },
  {
   "cell_type": "code",
   "execution_count": 73,
   "metadata": {},
   "outputs": [],
   "source": [
    "def instantiate_string_matching(cleaned_text, tuples):\n",
    "    \n",
    "    corpus = []\n",
    "    \n",
    "    # add words from tuple to corpus\n",
    "    for tupl in tuples:\n",
    "        corpus.append(word_tokenize(tupl['prop'] + \" \" + tupl['value']))\n",
    "    \n",
    "    sentences = sent_tokenize(cleaned_text)\n",
    "    \n",
    "    # add words from sentences to corpus\n",
    "    for sentence in sentences:\n",
    "        tokenized_sent = word_tokenize(sentence)\n",
    "        corpus.append(tokenized_sent)\n",
    "    \n",
    "    return SoftTfIdf(corpus, sim_func = JaroWinkler().get_raw_score, threshold=0.8)"
   ]
  },
  {
   "cell_type": "code",
   "execution_count": 69,
   "metadata": {},
   "outputs": [],
   "source": [
    "def token_sliding_window(tokens, size):\n",
    "    for i in range(len(tokens) - size + 1):\n",
    "        yield tokens[i: i + size]"
   ]
  },
  {
   "cell_type": "code",
   "execution_count": 65,
   "metadata": {},
   "outputs": [],
   "source": [
    "# cleaned text and a dict with keys prop and value)\n",
    "def score_sentences(cleaned_text, tupl, soft_tfidf):\n",
    "    \n",
    "    tuple_tokens = word_tokenize(tupl['prop'] + \" \" + tupl['value'])\n",
    "    sentences = sent_tokenize(cleaned_text)\n",
    "    \n",
    "    scores = []\n",
    "    for sentence in sentences:\n",
    "        sentence_tokens = word_tokenize(sentence)\n",
    "        \n",
    "        big_score = 0.0\n",
    "        for window in token_sliding_window(sentence_tokens, 5):\n",
    "            score = soft_tfidf.get_raw_score(window, tuple_tokens)\n",
    "            if score > big_score:\n",
    "                big_score = score\n",
    "            \n",
    "        scores.append({'sent':sentence, 'score': big_score})\n",
    "    \n",
    "    return scores\n",
    "        "
   ]
  },
  {
   "cell_type": "code",
   "execution_count": 66,
   "metadata": {},
   "outputs": [],
   "source": [
    "def read_files(text_dir, structured_dir, filename):\n",
    "    \n",
    "    content = open(text_dir + filename, 'r') \n",
    "    text = content.read()\n",
    "    text = text.replace(\"\\n\", \" \").strip().rstrip()\n",
    "    \n",
    "    tuples = []\n",
    "    content2 = open(structured_dir + filename, 'r')\n",
    "    for line in content2:\n",
    "        items = line.replace(\"\\n\",\"\").replace(\"_\",\" \").split(\"\\t:\\t\")\n",
    "        tuples.append({'prop': items[0], 'value': items[1]})\n",
    "    \n",
    "    return text, tuples"
   ]
  },
  {
   "cell_type": "code",
   "execution_count": 67,
   "metadata": {},
   "outputs": [],
   "source": [
    "def select_bigger_score(scores):\n",
    "    return max(scores, key=lambda s:s['score'])"
   ]
  },
  {
   "cell_type": "code",
   "execution_count": 75,
   "metadata": {
    "scrolled": true
   },
   "outputs": [
    {
     "name": "stdout",
     "output_type": "stream",
     "text": [
      "{'prop': 'seat wl', 'value': 'Abbeville'}\n",
      "{'score': 0.4365824590665676, 'sent': 'History Both Abbeville County and the county seat, Abbeville, SC, get their name from the town of Abbeville, France.'}\n",
      "\n",
      "{'prop': 'pop', 'value': '25417'}\n",
      "{'score': 0.8210561194911629, 'sent': '2010 census As of the 2010 United States Census, there were 25,417 people, 9,990 households, and 6,939 families residing in the county.'}\n",
      "\n",
      "{'prop': 'web', 'value': 'www.abbevillecountysc.com'}\n",
      "{'score': 0.0, 'sent': 'Abbeville County is a county located in the U.S. state of South Carolina.'}\n",
      "\n",
      "{'prop': 'time zone', 'value': 'Eastern'}\n",
      "{'score': 0.2310048554112885, 'sent': \"See also  * National Register of Historic Places listings in Abbeville County, South Carolina  * Lake Russell  References   External links  *  16x16px Media related to Abbeville County, South Carolina at Wikimedia Commons  *  16x16px Geographic data related to Abbeville County, South Carolina at OpenStreetMap  *  Abbeville County's Official Website  *  Abbeville County Development Board  *  Greater Abbeville Chamber of Commerce  *  Abbeville County Confederate Monument\"}\n",
      "\n",
      "{'prop': 'area total sq mi', 'value': '511'}\n",
      "{'score': 0.933646361909897, 'sent': 'The other members and their districts are as following:  * Charlie Stone- District 1  * John Calhoun- District 2  * Claude Thomas- District 3  * William Norris- District 4  * Oscar Klugh- District 5  * Don Campbell- District 6  Geography According to the U.S. Census Bureau, the county has a total area of 511 square miles (1,320 km2), of which 490 square miles (1,300 km2) is land and 21 square miles (54 km2) (4.0%) is water.'}\n",
      "\n",
      "{'prop': 'area water sq mi', 'value': '21'}\n",
      "{'score': 0.5870213669385955, 'sent': 'The other members and their districts are as following:  * Charlie Stone- District 1  * John Calhoun- District 2  * Claude Thomas- District 3  * William Norris- District 4  * Oscar Klugh- District 5  * Don Campbell- District 6  Geography According to the U.S. Census Bureau, the county has a total area of 511 square miles (1,320 km2), of which 490 square miles (1,300 km2) is land and 21 square miles (54 km2) (4.0%) is water.'}\n",
      "\n",
      "{'prop': 'founded', 'value': '1785'}\n",
      "{'score': 0.4350022992053035, 'sent': 'The county was originally part of Ninety-Six District, South Carolina, but was designated Abbeville County in 1785, with parts of the county later going to the creation of the counties of Greenwood and McCormick.'}\n",
      "\n",
      "{'prop': 'largest city wl', 'value': 'Abbeville'}\n",
      "{'score': 0.5478560541306864, 'sent': 'The following schools are within the district:  * Abbeville County Adult Education  * Abbeville High School (grades 9-12)  * Abbeville County Career Center (supplementary career education - grades 10-12)  * Cherokee Trail Elementary (grades K-7)  * Diamond Hill Elementary (grades K-7)  * Dixie High School (grades 8-12)  * John C. Calhoun Elementary (grades K-5)  * Long Cane Primary (grades K-2)  * Westwood Elementary (grades 3-5)  * Wright Middle School (grades 6-8)  Other schools  * Calhoun Falls Charter School (part of the South Carolina Public Charter School District, whereby students from any part of the state may attend)  Colleges and universities  * Erskine College, a four-year Christian liberal arts college, with 575 undergraduates, is located in Due West, South Carolina  * Piedmont Technical College, hosts a branch campus in Abbeville, SC  Communities   City  * Abbeville (county seat)  Towns   Unincorporated communities   Notable residents  * John C. Calhoun, (1782–1850), born in the Abbeville District, United States Congressman and United States Senator from South Carolina, Secretary of War, Secretary of State, and Vice President of the United States   * Langdon Cheves, (1776–1857), born in Abbeville County at Rocky River, banker and United States Congressman from South Carolina  * Francis Alanson Cunningham, (1804–1864), born in the Abbeville District, physician and United States Congressman from Ohio   * Joshua Hill, (1812–1891), born in the Abbeville District, United States Senator from Georgia   * Abner Smith Lipscomb, (1816–1890), born in the Abbeville District, member of the Alabama Legislature and Supreme Court Justice of both Alabama and Texas.'}\n",
      "\n",
      "{'prop': 'named for', 'value': 'Abbeville, France'}\n",
      "{'score': 0.766355114433978, 'sent': 'History Both Abbeville County and the county seat, Abbeville, SC, get their name from the town of Abbeville, France.'}\n",
      "\n",
      "{'prop': 'area percentage', 'value': '4.0%'}\n",
      "{'score': 0.4183855745431642, 'sent': 'The other members and their districts are as following:  * Charlie Stone- District 1  * John Calhoun- District 2  * Claude Thomas- District 3  * William Norris- District 4  * Oscar Klugh- District 5  * Don Campbell- District 6  Geography According to the U.S. Census Bureau, the county has a total area of 511 square miles (1,320 km2), of which 490 square miles (1,300 km2) is land and 21 square miles (54 km2) (4.0%) is water.'}\n",
      "\n",
      "{'prop': 'census yr', 'value': '2010'}\n",
      "{'score': 0.3808588941072054, 'sent': 'As of the 2010 census, its population was 25,417.'}\n",
      "\n",
      "{'prop': 'density sq mi', 'value': '52'}\n",
      "{'score': 0.810726703601076, 'sent': 'The population density was 52 people per square mile (20/km²).'}\n",
      "\n",
      "{'prop': 'ex image cap', 'value': 'Abbeville County Courthouse'}\n",
      "{'score': 0.5305096561190877, 'sent': 'The following schools are within the district:  * Abbeville County Adult Education  * Abbeville High School (grades 9-12)  * Abbeville County Career Center (supplementary career education - grades 10-12)  * Cherokee Trail Elementary (grades K-7)  * Diamond Hill Elementary (grades K-7)  * Dixie High School (grades 8-12)  * John C. Calhoun Elementary (grades K-5)  * Long Cane Primary (grades K-2)  * Westwood Elementary (grades 3-5)  * Wright Middle School (grades 6-8)  Other schools  * Calhoun Falls Charter School (part of the South Carolina Public Charter School District, whereby students from any part of the state may attend)  Colleges and universities  * Erskine College, a four-year Christian liberal arts college, with 575 undergraduates, is located in Due West, South Carolina  * Piedmont Technical College, hosts a branch campus in Abbeville, SC  Communities   City  * Abbeville (county seat)  Towns   Unincorporated communities   Notable residents  * John C. Calhoun, (1782–1850), born in the Abbeville District, United States Congressman and United States Senator from South Carolina, Secretary of War, Secretary of State, and Vice President of the United States   * Langdon Cheves, (1776–1857), born in Abbeville County at Rocky River, banker and United States Congressman from South Carolina  * Francis Alanson Cunningham, (1804–1864), born in the Abbeville District, physician and United States Congressman from Ohio   * Joshua Hill, (1812–1891), born in the Abbeville District, United States Senator from Georgia   * Abner Smith Lipscomb, (1816–1890), born in the Abbeville District, member of the Alabama Legislature and Supreme Court Justice of both Alabama and Texas.'}\n",
      "\n",
      "{'prop': 'district', 'value': '3rd'}\n",
      "{'score': 0.44932661784112105, 'sent': 'The other members and their districts are as following:  * Charlie Stone- District 1  * John Calhoun- District 2  * Claude Thomas- District 3  * William Norris- District 4  * Oscar Klugh- District 5  * Don Campbell- District 6  Geography According to the U.S. Census Bureau, the county has a total area of 511 square miles (1,320 km2), of which 490 square miles (1,300 km2) is land and 21 square miles (54 km2) (4.0%) is water.'}\n",
      "\n",
      "{'prop': 'state', 'value': 'South Carolina'}\n",
      "{'score': 0.9942203484397852, 'sent': 'Abbeville County is a county located in the U.S. state of South Carolina.'}\n",
      "\n",
      "{'prop': 'area land sq mi', 'value': '490'}\n",
      "{'score': 0.6046653725349747, 'sent': 'The other members and their districts are as following:  * Charlie Stone- District 1  * John Calhoun- District 2  * Claude Thomas- District 3  * William Norris- District 4  * Oscar Klugh- District 5  * Don Campbell- District 6  Geography According to the U.S. Census Bureau, the county has a total area of 511 square miles (1,320 km2), of which 490 square miles (1,300 km2) is land and 21 square miles (54 km2) (4.0%) is water.'}\n",
      "\n",
      "{'prop': 'ex image', 'value': 'Abbevillecourt01-1000.jpg'}\n"
     ]
    },
    {
     "name": "stdout",
     "output_type": "stream",
     "text": [
      "{'score': 0.33294892697514794, 'sent': 'History Both Abbeville County and the county seat, Abbeville, SC, get their name from the town of Abbeville, France.'}\n",
      "\n",
      "{'prop': 'county', 'value': 'Abbeville County'}\n",
      "{'score': 0.9084842179798058, 'sent': 'History Both Abbeville County and the county seat, Abbeville, SC, get their name from the town of Abbeville, France.'}\n",
      "\n"
     ]
    }
   ],
   "source": [
    "text_dir = 'data/text/'\n",
    "structured_dir = 'data/structured_data/'\n",
    "filenames = ['Abbeville_County,_South_Carolina', 'Acadia_Parish,_Louisiana', 'Accomack_County,_Virginia']\n",
    "\n",
    "text, tuples = read_files(text_dir, structured_dir, filenames[0])\n",
    "\n",
    "soft_tfidf = instantiate_string_matching(text, tuples)\n",
    "\n",
    "for tupl in tuples:\n",
    "    print(tupl)\n",
    "    scores = score_sentences(text, tupl, soft_tfidf)\n",
    "    print(select_bigger_score(scores))\n",
    "    print('')"
   ]
  },
  {
   "cell_type": "code",
   "execution_count": null,
   "metadata": {},
   "outputs": [],
   "source": []
  }
 ],
 "metadata": {
  "kernelspec": {
   "display_name": "Python 3",
   "language": "python",
   "name": "python3"
  },
  "language_info": {
   "codemirror_mode": {
    "name": "ipython",
    "version": 3
   },
   "file_extension": ".py",
   "mimetype": "text/x-python",
   "name": "python",
   "nbconvert_exporter": "python",
   "pygments_lexer": "ipython3",
   "version": "3.5.2"
  }
 },
 "nbformat": 4,
 "nbformat_minor": 2
}
